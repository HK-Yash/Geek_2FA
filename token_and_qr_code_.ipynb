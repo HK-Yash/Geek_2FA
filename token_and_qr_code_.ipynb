{
  "nbformat": 4,
  "nbformat_minor": 0,
  "metadata": {
    "colab": {
      "provenance": [],
      "authorship_tag": "ABX9TyOVBaiwoCA2bDPGR1ScW/kj",
      "include_colab_link": true
    },
    "kernelspec": {
      "name": "python3",
      "display_name": "Python 3"
    },
    "language_info": {
      "name": "python"
    }
  },
  "cells": [
    {
      "cell_type": "markdown",
      "metadata": {
        "id": "view-in-github",
        "colab_type": "text"
      },
      "source": [
        "<a href=\"https://colab.research.google.com/github/HK-Yash/Geek_2FA/blob/main/token_and_qr_code_.ipynb\" target=\"_parent\"><img src=\"https://colab.research.google.com/assets/colab-badge.svg\" alt=\"Open In Colab\"/></a>"
      ]
    },
    {
      "cell_type": "code",
      "execution_count": null,
      "metadata": {
        "colab": {
          "base_uri": "https://localhost:8080/"
        },
        "id": "ee0hhWm3WmT7",
        "outputId": "1ac370b8-231d-4f9d-8687-ce1ad51b85b9"
      },
      "outputs": [
        {
          "output_type": "stream",
          "name": "stdout",
          "text": [
            "User ID: 19764737848724\n",
            "Token: 75c6be3e65d3ea4589efe6ce6e74e2c60d8ace83b3ce476dca311aa1908dca91\n"
          ]
        }
      ],
      "source": [
        "import hashlib\n",
        "import random\n",
        "def convert_to_hash(user_id):\n",
        "    # Ensure the user_id is a string\n",
        "    user_id_str = str(user_id)\n",
        "\n",
        "    # Create a hash object\n",
        "    hash_object = hashlib.sha256()\n",
        "\n",
        "    # Update the hash object with the bytes of the user_id\n",
        "    hash_object.update(user_id_str.encode())\n",
        "     # Get the hexadecimal representation of the hash\n",
        "    hash_hex = hash_object.hexdigest()\n",
        "\n",
        "    return hash_hex\n",
        "\n",
        "# Example usage\n",
        "user_id = \"19764737848724\"\n",
        "hash_value = convert_to_hash(user_id)\n",
        "print(f\"User ID: {user_id}\")\n",
        "print(f\"Token: {hash_value}\")\n"
      ]
    },
    {
      "cell_type": "markdown",
      "source": [
        "2ND TOKEN TO ADD CODE ID"
      ],
      "metadata": {
        "id": "0PBAyBw8heQn"
      }
    },
    {
      "cell_type": "code",
      "source": [
        "hash_value_pattern = hash_value + random_option\n",
        "print(hash_value_pattern)"
      ],
      "metadata": {
        "colab": {
          "base_uri": "https://localhost:8080/"
        },
        "id": "ALCmsYLbXFVW",
        "outputId": "fc2361d0-e962-4e8e-bf94-da03edc64143"
      },
      "execution_count": null,
      "outputs": [
        {
          "output_type": "stream",
          "name": "stdout",
          "text": [
            "745a53cad180c5a45d2952a180d951d9603d92055084952043e82eba44f0bdbf741741963852\n"
          ]
        }
      ]
    },
    {
      "cell_type": "markdown",
      "source": [
        "Fetch pattern id"
      ],
      "metadata": {
        "id": "7RCNPdt-hoEl"
      }
    },
    {
      "cell_type": "code",
      "source": [
        "pattern_code = hash_value_pattern[-3:]\n",
        "print(pattern_code)"
      ],
      "metadata": {
        "colab": {
          "base_uri": "https://localhost:8080/"
        },
        "id": "C4iadheCYloq",
        "outputId": "73703608-42b3-452c-e965-84481d2a6d0b"
      },
      "execution_count": null,
      "outputs": [
        {
          "output_type": "stream",
          "name": "stdout",
          "text": [
            "852\n"
          ]
        }
      ]
    },
    {
      "cell_type": "code",
      "source": [
        "!pip install qrcode[pil]\n"
      ],
      "metadata": {
        "colab": {
          "base_uri": "https://localhost:8080/"
        },
        "id": "r0cYwCmna_x_",
        "outputId": "3c2727a6-09b8-4eea-f891-47943c11e23d"
      },
      "execution_count": null,
      "outputs": [
        {
          "output_type": "stream",
          "name": "stdout",
          "text": [
            "Collecting qrcode[pil]\n",
            "  Downloading qrcode-7.4.2-py3-none-any.whl (46 kB)\n",
            "\u001b[?25l     \u001b[90m━━━━━━━━━━━━━━━━━━━━━━━━━━━━━━━━━━━━━━━━\u001b[0m \u001b[32m0.0/46.2 kB\u001b[0m \u001b[31m?\u001b[0m eta \u001b[36m-:--:--\u001b[0m\r\u001b[2K     \u001b[90m━━━━━━━━━━━━━━━━━━━━━━━━━━━━━━━━━━━━━━━━\u001b[0m \u001b[32m46.2/46.2 kB\u001b[0m \u001b[31m1.7 MB/s\u001b[0m eta \u001b[36m0:00:00\u001b[0m\n",
            "\u001b[?25hRequirement already satisfied: typing-extensions in /usr/local/lib/python3.10/dist-packages (from qrcode[pil]) (4.12.2)\n",
            "Collecting pypng (from qrcode[pil])\n",
            "  Downloading pypng-0.20220715.0-py3-none-any.whl (58 kB)\n",
            "\u001b[?25l     \u001b[90m━━━━━━━━━━━━━━━━━━━━━━━━━━━━━━━━━━━━━━━━\u001b[0m \u001b[32m0.0/58.1 kB\u001b[0m \u001b[31m?\u001b[0m eta \u001b[36m-:--:--\u001b[0m\r\u001b[2K     \u001b[90m━━━━━━━━━━━━━━━━━━━━━━━━━━━━━━━━━━━━━━━━\u001b[0m \u001b[32m58.1/58.1 kB\u001b[0m \u001b[31m4.6 MB/s\u001b[0m eta \u001b[36m0:00:00\u001b[0m\n",
            "\u001b[?25hRequirement already satisfied: pillow>=9.1.0 in /usr/local/lib/python3.10/dist-packages (from qrcode[pil]) (9.4.0)\n",
            "Installing collected packages: pypng, qrcode\n",
            "Successfully installed pypng-0.20220715.0 qrcode-7.4.2\n"
          ]
        }
      ]
    },
    {
      "cell_type": "markdown",
      "source": [
        "qr code generator"
      ],
      "metadata": {
        "id": "fPnZ48VSdjnH"
      }
    },
    {
      "cell_type": "code",
      "source": [
        "import qrcode\n",
        "\n",
        "# Create a QR code from the hash value\n",
        "qr = qrcode.QRCode(\n",
        "    version=1,\n",
        "    error_correction=qrcode.constants.ERROR_CORRECT_L,\n",
        "    box_size=10,\n",
        "    border=4,\n",
        ")\n",
        "qr.add_data(hash_value)\n",
        "qr.make(fit=True)\n",
        "\n",
        "# Create an image from the QR code\n",
        "img = qr.make_image(fill='black', back_color='white')\n",
        "\n",
        "# Save the image\n",
        "img.save(\"hash_qr_code.png\")\n",
        "\n"
      ],
      "metadata": {
        "id": "q-5bWcPZadEU"
      },
      "execution_count": null,
      "outputs": []
    },
    {
      "cell_type": "markdown",
      "source": [
        "qr code scanner"
      ],
      "metadata": {
        "id": "jKkuh4uwdhKZ"
      }
    },
    {
      "cell_type": "code",
      "source": [
        "import cv2\n",
        "\n",
        "def read_qr_code(image_path):\n",
        "    # Read the image\n",
        "    image = cv2.imread(image_path)\n",
        "\n",
        "    # Initialize the QRCode detector\n",
        "    detector = cv2.QRCodeDetector()\n",
        "\n",
        "    # Detect and decode the QR code\n",
        "    data, bbox, _ = detector.detectAndDecode(image)\n",
        "\n",
        "    # Check if QR code detected\n",
        "    if bbox is not None:\n",
        "        print(\"QR Code detected\")\n",
        "        print(\"Data:\", data)\n",
        "    else:\n",
        "        print(\"No QR code detected\")\n",
        "\n",
        "image_path = \"hash_qr_code.png\"\n",
        "\n",
        "read_qr_code(image_path)"
      ],
      "metadata": {
        "colab": {
          "base_uri": "https://localhost:8080/"
        },
        "id": "XYpa609gglWz",
        "outputId": "4310f079-d689-4b3d-c490-124a19ed3a6b"
      },
      "execution_count": null,
      "outputs": [
        {
          "output_type": "stream",
          "name": "stdout",
          "text": [
            "QR Code detected\n",
            "Data: 75c6be3e65d3ea4589efe6ce6e74e2c60d8ace83b3ce476dca311aa1908dca91\n"
          ]
        }
      ]
    },
    {
      "cell_type": "code",
      "source": [],
      "metadata": {
        "id": "-wGwzNMog1no"
      },
      "execution_count": null,
      "outputs": []
    }
  ]
}